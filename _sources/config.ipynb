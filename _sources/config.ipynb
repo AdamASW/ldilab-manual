{
 "cells": [
  {
   "cell_type": "code",
   "execution_count": 1,
   "id": "ae7bc733",
   "metadata": {},
   "outputs": [
    {
     "ename": "KeyError",
     "evalue": "'other'",
     "output_type": "error",
     "traceback": [
      "\u001b[0;31m---------------------------------------------------------------------------\u001b[0m",
      "\u001b[0;31mKeyError\u001b[0m                                  Traceback (most recent call last)",
      "Cell \u001b[0;32mIn[1], line 9\u001b[0m\n\u001b[1;32m      7\u001b[0m     \u001b[38;5;28mprint\u001b[39m(\u001b[38;5;124m'\u001b[39m\u001b[38;5;124mNo config file found\u001b[39m\u001b[38;5;124m'\u001b[39m)\n\u001b[1;32m      8\u001b[0m \u001b[38;5;66;03m# let's prime a bunch of variables\u001b[39;00m\n\u001b[0;32m----> 9\u001b[0m glue(\u001b[38;5;124m\"\u001b[39m\u001b[38;5;124mreplmd\u001b[39m\u001b[38;5;124m\"\u001b[39m, \u001b[43mconfig\u001b[49m\u001b[43m[\u001b[49m\u001b[38;5;124;43m\"\u001b[39;49m\u001b[38;5;124;43mother\u001b[39;49m\u001b[38;5;124;43m\"\u001b[39;49m\u001b[43m]\u001b[49m[\u001b[38;5;124m\"\u001b[39m\u001b[38;5;124mreplmd\u001b[39m\u001b[38;5;124m\"\u001b[39m])\n",
      "\u001b[0;31mKeyError\u001b[0m: 'other'"
     ]
    }
   ],
   "source": [
    "from myst_nb import glue\n",
    "import yaml\n",
    "try:\n",
    "    with open('_config.yml') as f:\n",
    "        config = next(yaml.load_all(f, Loader=yaml.FullLoader))\n",
    "except FileNotFoundError:\n",
    "    print('No config file found')\n",
    "# let's prime a bunch of variables\n",
    "glue(\"replmd\", config[\"other\"][\"replmd\"])"
   ]
  }
 ],
 "metadata": {
  "jupytext": {
   "formats": "md:myst",
   "text_representation": {
    "extension": ".md",
    "format_name": "myst"
   }
  },
  "kernelspec": {
   "display_name": "Python 3",
   "language": "python",
   "name": "python3"
  },
  "language_info": {
   "codemirror_mode": {
    "name": "ipython",
    "version": 3
   },
   "file_extension": ".py",
   "mimetype": "text/x-python",
   "name": "python",
   "nbconvert_exporter": "python",
   "pygments_lexer": "ipython3",
   "version": "3.8.16"
  },
  "source_map": [
   14
  ]
 },
 "nbformat": 4,
 "nbformat_minor": 5
}